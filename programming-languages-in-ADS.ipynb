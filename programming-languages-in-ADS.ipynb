{
 "cells": [
  {
   "cell_type": "markdown",
   "metadata": {},
   "source": [
    "Counting programming language mentions in astronomy papers\n",
    "==========================================================\n",
    "\n",
    "\"Q1 2019 Edition\" Author: Juan Nunez-Iglesias.\n",
    "\n",
    "Adapted from code [written by](https://nbviewer.jupyter.org/github/astrofrog/mining_acknowledgments/blob/master/Mining%20acknowledgments%20in%20ADS.ipynb)\n",
    "[Thomas P. Robitaille](http://mpia.de/~robitaille/)\n",
    "and\n",
    "[updated by](https://nbviewer.jupyter.org/github/ChrisBeaumont/adass_proceedings/blob/master/Mining%20acknowledgments%20in%20ADS.ipynb)\n",
    "[Chris Beaumont](https://chrisbeaumont.org/).\n",
    "\n",
    "This work is licensed under a [Creative Commons Attribution-NonCommercial-ShareAlike 3.0 Unported](http://creativecommons.org/licenses/by-nc-sa/3.0/deed.en_US) License.\n",
    "\n",
    "![license](http://i.creativecommons.org/l/by-nc-sa/3.0/88x31.png)\n",
    "\n",
    "### Changes since 2016\n",
    "\n",
    "In April 2018, ADS [changed](http://adsabs.github.io/blog/updates) the default search behaviour to be metadata-only, so to get the original behaviour, I had to prepend 'full:' to the search query. Thanks to [Russell Anderson](https://www.monash.edu/science/schools/physics/about/ourpeople/anderson) and [Andy Casey](http://astrowizici.st/) for prompting me and helping me debug this. Andy in particular prompted me to add tqdm support, which makes the query step a lot nicer. =)"
   ]
  },
  {
   "cell_type": "markdown",
   "metadata": {},
   "source": [
    "### The story so far\n",
    "\n",
    "In 2014 I came across [this tweet](https://twitter.com/BeaumontChris/status/517412133181865984) by Chris Beaumont, showing Python overtaking Matlab and rapidly gaining ground on IDL in astronomy.\n",
    "\n",
    "I'd referred to that plot a couple of times in the past, but [in 2016](https://github.com/jni/programming-languages-in-astronomy/blob/1991f7db48f7748492d3593fe6e142678cc951d1/programming-languages-in-ADS.ipynb) I wanted to use it in a PyCon-Au talk, so I thought it was time to update it. Hence, this notebook.\n",
    "\n",
    "Jake VanderPlas updated the notebook [last year](https://mobile.twitter.com/__mharrison__/status/865612360886607872), showing an even more exilarating climb.\n",
    "\n",
    "What does the story look like in March 2019? Well, it's not slowing down!\n",
    "\n",
    "Overall, all three languages are climbing, reflecting the increased importance of computation in Astronomy. But Python's lead is widening dramatically."
   ]
  },
  {
   "cell_type": "markdown",
   "metadata": {},
   "source": [
    "First, let's import everything we need. You can install it all using either conda or pip."
   ]
  },
  {
   "cell_type": "code",
   "execution_count": 1,
   "metadata": {},
   "outputs": [],
   "source": [
    "%matplotlib inline\n",
    "%config InlineBackend.figure_format = 'retina'\n",
    "\n",
    "import os\n",
    "\n",
    "import numpy as np\n",
    "import matplotlib as mpl\n",
    "import matplotlib.pyplot as plt\n",
    "import pandas as pd\n",
    "from datetime import datetime, date\n",
    "from tqdm import tqdm_notebook"
   ]
  },
  {
   "cell_type": "markdown",
   "metadata": {},
   "source": [
    "Let's set some nice Matplotlib defaults. Note that there is a deprecation warning when setting the default color cycle, but I can't be bothered tracking down the fix. (It is not the simple replacement suggested by the deprecation message.)"
   ]
  },
  {
   "cell_type": "code",
   "execution_count": 2,
   "metadata": {},
   "outputs": [],
   "source": [
    "mpl.rcParams['figure.figsize'] = (9,6)\n",
    "mpl.rcParams['font.size'] = 14"
   ]
  },
  {
   "cell_type": "markdown",
   "metadata": {},
   "source": [
    "Next, we import the [`ads` Python library](https://pypi.python.org/pypi/ads), which simplifies queries to the [Astrophysics Data System](https://ui.adsabs.harvard.edu). (The original notebooks used `requests` to create direct JSON queries, but the API appears to have changed in the meantime. I hope that using the `ads` library, someone else will take care of keeping the API queries up to date.)\n",
    "\n",
    "To run this notebook, **you need to get a free API key** to allow queries to the ADS system. Create an account at [ADS](https://ui.adsabs.harvard.edu), log in, and then look for \"Generate a new key\" under your user profile.\n",
    "\n",
    "Then, copy that key into a file called `.ads/dev_key` in your home directory. (You can also pass it as a string using the `token=<my_key>` keyword argument to `SearchQuery`, below)"
   ]
  },
  {
   "cell_type": "code",
   "execution_count": 3,
   "metadata": {},
   "outputs": [],
   "source": [
    "import ads as ads"
   ]
  },
  {
   "cell_type": "markdown",
   "metadata": {},
   "source": [
    "The ADS system has a daily limit to the number of queries you can perform with a given key (I think 5,000, as of this writing). So that you're not wasting queries while you're developing, you can use the `ads.sandbox` package that will return mock results to your queries. Uncomment the following cell to use the sandbox instead of the real API."
   ]
  },
  {
   "cell_type": "code",
   "execution_count": 4,
   "metadata": {},
   "outputs": [],
   "source": [
    "# Uncomment the following line to use the sandbox\n",
    "# import ads.sandbox as ads"
   ]
  },
  {
   "cell_type": "markdown",
   "metadata": {},
   "source": [
    "Next, we write a function that will count up how many results an individual query and year return, as well as a function to combine related queries (such as 'MATLAB' and 'Matlab')."
   ]
  },
  {
   "cell_type": "code",
   "execution_count": 5,
   "metadata": {},
   "outputs": [],
   "source": [
    "def count_results(qstring):\n",
    "    q = ads.SearchQuery(q=qstring)\n",
    "    q.execute()\n",
    "    return int(q.response.numFound)\n",
    "\n",
    "\n",
    "def correct_partial_year(count, year):\n",
    "    now = datetime.now().timetuple()\n",
    "    if year == now.tm_year:\n",
    "        days_in_year = date(year, 12, 31).timetuple().tm_yday\n",
    "        corrected = count * days_in_year / now.tm_yday\n",
    "        return corrected\n",
    "    else:\n",
    "        return count\n",
    "\n",
    "\n",
    "def yearly_counts(query='', years=(2000, 2019)):\n",
    "    \"\"\"Count papers\"\"\"\n",
    "    if type(query) == list:\n",
    "        query = str.join(' OR ', query)\n",
    "    results = []\n",
    "    for year in tqdm_notebook(range(*years),\n",
    "                              desc='years', leave=False):\n",
    "        # the 'full:' modifier ensures full-text search\n",
    "        mentions = count_results(f'full:({query}) year:{year} '\n",
    "                                  'database:astronomy property:refereed')\n",
    "        mentions_corrected = correct_partial_year(mentions, year)\n",
    "        total = count_results(f'year:{year} database:astronomy '\n",
    "                               'property:refereed')\n",
    "        total_corrected = correct_partial_year(total, year)\n",
    "        results.append([year, mentions_corrected, total_corrected])\n",
    "    return np.array(results, dtype=float)"
   ]
  },
  {
   "cell_type": "markdown",
   "metadata": {},
   "source": [
    "Finally, create a dictionary mapping languages to queries. I've left some of the original queries commented out, but you can uncomment them if you care about those languages in astronomy.\n",
    "\n",
    "As a side note, a simple measure of how annoying a language's name is is given by the number of queries necessary to find its mentions."
   ]
  },
  {
   "cell_type": "code",
   "execution_count": 6,
   "metadata": {},
   "outputs": [],
   "source": [
    "# Use a regular dictionary since they are insertion-ordered since Py3.6\n",
    "languages = {\n",
    "    'IDL': ['IDL'],\n",
    "    'Matlab': ['matlab'],  # lowercase -> case-insensitive\n",
    "    'Python': ['python'],\n",
    "    #'Fortran': ['fortran'],\n",
    "    #'C': ['C programming language', 'C language',\n",
    "    #      'C code', 'C library', 'C module'],\n",
    "    #'R': ['R programming language', 'R language',\n",
    "    #      'R code', 'R library', 'R module'],\n",
    "}"
   ]
  },
  {
   "cell_type": "markdown",
   "metadata": {},
   "source": [
    "The next cell runs the queries. Don't waste those API hits!"
   ]
  },
  {
   "cell_type": "code",
   "execution_count": 7,
   "metadata": {},
   "outputs": [
    {
     "data": {
      "application/vnd.jupyter.widget-view+json": {
       "model_id": "080649c379ce43199ac9c2a5d10377b0",
       "version_major": 2,
       "version_minor": 0
      },
      "text/plain": [
       "HBox(children=(IntProgress(value=0, description='languages', max=3), HTML(value='')))"
      ]
     },
     "metadata": {},
     "output_type": "display_data"
    },
    {
     "data": {
      "application/vnd.jupyter.widget-view+json": {
       "model_id": "",
       "version_major": 2,
       "version_minor": 0
      },
      "text/plain": [
       "HBox(children=(IntProgress(value=0, description='years', max=19), HTML(value='')))"
      ]
     },
     "metadata": {},
     "output_type": "display_data"
    },
    {
     "data": {
      "application/vnd.jupyter.widget-view+json": {
       "model_id": "",
       "version_major": 2,
       "version_minor": 0
      },
      "text/plain": [
       "HBox(children=(IntProgress(value=0, description='years', max=19), HTML(value='')))"
      ]
     },
     "metadata": {},
     "output_type": "display_data"
    },
    {
     "data": {
      "application/vnd.jupyter.widget-view+json": {
       "model_id": "",
       "version_major": 2,
       "version_minor": 0
      },
      "text/plain": [
       "HBox(children=(IntProgress(value=0, description='years', max=19), HTML(value='')))"
      ]
     },
     "metadata": {},
     "output_type": "display_data"
    },
    {
     "name": "stdout",
     "output_type": "stream",
     "text": [
      "\n"
     ]
    }
   ],
   "source": [
    "results = {name: yearly_counts(query)\n",
    "           for name, query\n",
    "           in tqdm_notebook(languages.items(), desc='languages')}"
   ]
  },
  {
   "cell_type": "markdown",
   "metadata": {},
   "source": [
    "Finally, define a function to plot the results:"
   ]
  },
  {
   "cell_type": "code",
   "execution_count": 8,
   "metadata": {},
   "outputs": [],
   "source": [
    "def trendlines(queries, norm=False):\n",
    "    fig, ax = plt.subplots(figsize=(5, 5))\n",
    "    for lang in languages:\n",
    "        counts = queries[lang]\n",
    "        x = counts[:, 0]\n",
    "        y = np.copy(counts[:, 1])\n",
    "        if norm:\n",
    "            y /= counts[:, 2]\n",
    "        ax.plot(x, y * 100, label=lang, lw=4, alpha=0.8)\n",
    "    ax.set_xlim(np.min(x), np.max(x)+0.5)\n",
    "    ax.set_xlabel('Year')\n",
    "    ax.set_ylabel('Percent of Refereed\\nPublications Mentioning')\n",
    "    ax.legend(loc='upper left', frameon=False)\n",
    "    ax.spines['right'].set_visible(False)\n",
    "    ax.spines['top'].set_visible(False)"
   ]
  },
  {
   "cell_type": "code",
   "execution_count": 9,
   "metadata": {},
   "outputs": [
    {
     "data": {
      "image/png": "[encoded data removed]",
      "text/plain": [
       "<Figure size 360x360 with 1 Axes>"
      ]
     },
     "metadata": {
      "image/png": {
       "height": 326,
       "width": 345
      }
     },
     "output_type": "display_data"
    }
   ],
   "source": [
    "trendlines(results, norm=True)\n",
    "plt.savefig('python-vs-matlab-vs-IDL-in-astro.pdf')"
   ]
  },
  {
   "cell_type": "markdown",
   "metadata": {},
   "source": [
    "There you have it: some time in early 2015, Python overtook IDL as the most mentioned (and probably the most used) programming language in astronomy. Since then, the Python curve just keeps getting steeper!"
   ]
  }
 ],
 "metadata": {
  "kernelspec": {
   "display_name": "Python 3",
   "language": "python",
   "name": "python3"
  },
  "language_info": {
   "codemirror_mode": {
    "name": "ipython",
    "version": 3
   },
   "file_extension": ".py",
   "mimetype": "text/x-python",
   "name": "python",
   "nbconvert_exporter": "python",
   "pygments_lexer": "ipython3",
   "version": "3.6.8"
  }
 },
 "nbformat": 4,
 "nbformat_minor": 1
}
